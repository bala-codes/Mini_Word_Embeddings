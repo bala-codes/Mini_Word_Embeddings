{
  "nbformat": 4,
  "nbformat_minor": 0,
  "metadata": {
    "colab": {
      "name": "Mini_Word_Embedding.ipynb",
      "provenance": [],
      "collapsed_sections": [],
      "authorship_tag": "ABX9TyNrIcZNZK8BQoweVhiEDq0j",
      "include_colab_link": true
    },
    "kernelspec": {
      "name": "python3",
      "display_name": "Python 3"
    }
  },
  "cells": [
    {
      "cell_type": "markdown",
      "metadata": {
        "id": "view-in-github",
        "colab_type": "text"
      },
      "source": [
        "<a href=\"https://colab.research.google.com/github/bala-codes/Mini_Word_Embeddings/blob/master/codes/Mini_Word_Embedding.ipynb\" target=\"_parent\"><img src=\"https://colab.research.google.com/assets/colab-badge.svg\" alt=\"Open In Colab\"/></a>"
      ]
    },
    {
      "cell_type": "code",
      "metadata": {
        "id": "WDrHKZg3DvuF",
        "colab_type": "code",
        "colab": {}
      },
      "source": [
        "import numpy as np\n",
        "import matplotlib.pylab as plt\n",
        "import pandas as pd\n",
        "import torch \n",
        "from torch import nn\n",
        "from torch import optim\n",
        "import torch.nn.functional as F\n",
        "from torchvision import datasets, transforms, models\n",
        "from torch.utils.data import Dataset, DataLoader\n",
        "import random\n",
        "from keras.preprocessing.text import one_hot\n",
        "from keras.preprocessing.sequence import pad_sequences\n",
        "from sklearn.preprocessing import OneHotEncoder\n",
        "!pip install torchsummaryX  --quiet\n",
        "from torchsummaryX import summary"
      ],
      "execution_count": 157,
      "outputs": []
    },
    {
      "cell_type": "code",
      "metadata": {
        "id": "cCxxD0DIEG0w",
        "colab_type": "code",
        "colab": {}
      },
      "source": [
        "# Sample Document # Recreated from the tom and jerry cartoon\n",
        "        \n",
        "docs = [\"cat and mice are buddies\",\n",
        "        'mice lives in hole',\n",
        "        'cat lives in house',\n",
        "        'cat chases mice',\n",
        "        'cat catches mice',\n",
        "        'cat eats mice',\n",
        "        'mice runs into hole',\n",
        "        'cat says bad words',\n",
        "        'cat and mice are pals',\n",
        "        'cat and mice are chums',\n",
        "        'mice stores food in hole',\n",
        "        'cat stores food in house',\n",
        "        'mice sleeps in hole',\n",
        "        'cat sleeps in house']"
      ],
      "execution_count": 158,
      "outputs": []
    },
    {
      "cell_type": "code",
      "metadata": {
        "id": "j-qwNxCaciL5",
        "colab_type": "code",
        "colab": {
          "base_uri": "https://localhost:8080/",
          "height": 71
        },
        "outputId": "6c30a25e-e5f4-4cf6-bd12-4b815a23e3c2"
      },
      "source": [
        "idx_2_word = {}\n",
        "word_2_idx = {}\n",
        "temp = []\n",
        "i = 1\n",
        "for doc in docs:\n",
        "  for word in doc.split():\n",
        "    if word not in temp:\n",
        "      temp.append(word)\n",
        "      idx_2_word[i] = word\n",
        "      word_2_idx[word] = i\n",
        "      i += 1\n",
        "\n",
        "print(idx_2_word)\n",
        "print(word_2_idx)"
      ],
      "execution_count": 159,
      "outputs": [
        {
          "output_type": "stream",
          "text": [
            "{1: 'cat', 2: 'and', 3: 'mice', 4: 'are', 5: 'buddies', 6: 'lives', 7: 'in', 8: 'hole', 9: 'house', 10: 'chases', 11: 'catches', 12: 'eats', 13: 'runs', 14: 'into', 15: 'says', 16: 'bad', 17: 'words', 18: 'pals', 19: 'chums', 20: 'stores', 21: 'food', 22: 'sleeps'}\n",
            "{'cat': 1, 'and': 2, 'mice': 3, 'are': 4, 'buddies': 5, 'lives': 6, 'in': 7, 'hole': 8, 'house': 9, 'chases': 10, 'catches': 11, 'eats': 12, 'runs': 13, 'into': 14, 'says': 15, 'bad': 16, 'words': 17, 'pals': 18, 'chums': 19, 'stores': 20, 'food': 21, 'sleeps': 22}\n"
          ],
          "name": "stdout"
        }
      ]
    },
    {
      "cell_type": "markdown",
      "metadata": {
        "id": "SNw6ehfYKLGz",
        "colab_type": "text"
      },
      "source": [
        "# Words to numbers"
      ]
    },
    {
      "cell_type": "code",
      "metadata": {
        "id": "CCRur9IYGsy1",
        "colab_type": "code",
        "colab": {
          "base_uri": "https://localhost:8080/",
          "height": 255
        },
        "outputId": "53138c56-cebf-48a4-9f4a-cbb90fbf71dc"
      },
      "source": [
        "vocab_size = 25\n",
        "\n",
        "def one_hot_map(doc):\n",
        "  x = []\n",
        "  for word in doc.split():\n",
        "    x.append(word_2_idx[word])\n",
        "  return x\n",
        "  \n",
        "encoded_docs = [one_hot_map(d) for d in docs]\n",
        "encoded_docs"
      ],
      "execution_count": 160,
      "outputs": [
        {
          "output_type": "execute_result",
          "data": {
            "text/plain": [
              "[[1, 2, 3, 4, 5],\n",
              " [3, 6, 7, 8],\n",
              " [1, 6, 7, 9],\n",
              " [1, 10, 3],\n",
              " [1, 11, 3],\n",
              " [1, 12, 3],\n",
              " [3, 13, 14, 8],\n",
              " [1, 15, 16, 17],\n",
              " [1, 2, 3, 4, 18],\n",
              " [1, 2, 3, 4, 19],\n",
              " [3, 20, 21, 7, 8],\n",
              " [1, 20, 21, 7, 9],\n",
              " [3, 22, 7, 8],\n",
              " [1, 22, 7, 9]]"
            ]
          },
          "metadata": {
            "tags": []
          },
          "execution_count": 160
        }
      ]
    },
    {
      "cell_type": "markdown",
      "metadata": {
        "id": "-4wxBo3cKOmQ",
        "colab_type": "text"
      },
      "source": [
        "# Padding"
      ]
    },
    {
      "cell_type": "code",
      "metadata": {
        "id": "iz8W-80EF067",
        "colab_type": "code",
        "colab": {
          "base_uri": "https://localhost:8080/",
          "height": 255
        },
        "outputId": "2d56ed77-8ed2-43e5-bfcc-353213471b08"
      },
      "source": [
        "max_len = 10\n",
        "padded_docs = pad_sequences(encoded_docs, maxlen=max_len, padding='post')\n",
        "padded_docs"
      ],
      "execution_count": 161,
      "outputs": [
        {
          "output_type": "execute_result",
          "data": {
            "text/plain": [
              "array([[ 1,  2,  3,  4,  5,  0,  0,  0,  0,  0],\n",
              "       [ 3,  6,  7,  8,  0,  0,  0,  0,  0,  0],\n",
              "       [ 1,  6,  7,  9,  0,  0,  0,  0,  0,  0],\n",
              "       [ 1, 10,  3,  0,  0,  0,  0,  0,  0,  0],\n",
              "       [ 1, 11,  3,  0,  0,  0,  0,  0,  0,  0],\n",
              "       [ 1, 12,  3,  0,  0,  0,  0,  0,  0,  0],\n",
              "       [ 3, 13, 14,  8,  0,  0,  0,  0,  0,  0],\n",
              "       [ 1, 15, 16, 17,  0,  0,  0,  0,  0,  0],\n",
              "       [ 1,  2,  3,  4, 18,  0,  0,  0,  0,  0],\n",
              "       [ 1,  2,  3,  4, 19,  0,  0,  0,  0,  0],\n",
              "       [ 3, 20, 21,  7,  8,  0,  0,  0,  0,  0],\n",
              "       [ 1, 20, 21,  7,  9,  0,  0,  0,  0,  0],\n",
              "       [ 3, 22,  7,  8,  0,  0,  0,  0,  0,  0],\n",
              "       [ 1, 22,  7,  9,  0,  0,  0,  0,  0,  0]], dtype=int32)"
            ]
          },
          "metadata": {
            "tags": []
          },
          "execution_count": 161
        }
      ]
    },
    {
      "cell_type": "markdown",
      "metadata": {
        "id": "FiODjq9CKQBw",
        "colab_type": "text"
      },
      "source": [
        "# Creating dataset tuples for training"
      ]
    },
    {
      "cell_type": "code",
      "metadata": {
        "id": "4bzaeMtCOKLU",
        "colab_type": "code",
        "colab": {
          "base_uri": "https://localhost:8080/",
          "height": 1000
        },
        "outputId": "acbe6065-95fb-4b3d-ef9d-87bf96a38ee5"
      },
      "source": [
        "training_data = np.empty((0,2))\n",
        "\n",
        "window = 2\n",
        "for sentence in padded_docs:\n",
        "  sent_len = len(sentence)\n",
        "  for i, word in enumerate(sentence):\n",
        "    w_context = []\n",
        "    if sentence[i] != 0:\n",
        "      w_target = sentence[i]\n",
        "      for j in range(i-window, i + window + 1):\n",
        "        if j != i and j <= sent_len -1 and j >=0 and sentence[j]!=0:\n",
        "          w_context = sentence[j]\n",
        "          training_data = np.append(training_data, [[w_target, w_context]], axis=0)\n",
        "          #training_data.append([w_target, w_context])\n",
        "\n",
        "print(len(training_data))\n",
        "print(training_data.shape)\n",
        "training_data"
      ],
      "execution_count": 162,
      "outputs": [
        {
          "output_type": "stream",
          "text": [
            "148\n",
            "(148, 2)\n"
          ],
          "name": "stdout"
        },
        {
          "output_type": "execute_result",
          "data": {
            "text/plain": [
              "array([[ 1.,  2.],\n",
              "       [ 1.,  3.],\n",
              "       [ 2.,  1.],\n",
              "       [ 2.,  3.],\n",
              "       [ 2.,  4.],\n",
              "       [ 3.,  1.],\n",
              "       [ 3.,  2.],\n",
              "       [ 3.,  4.],\n",
              "       [ 3.,  5.],\n",
              "       [ 4.,  2.],\n",
              "       [ 4.,  3.],\n",
              "       [ 4.,  5.],\n",
              "       [ 5.,  3.],\n",
              "       [ 5.,  4.],\n",
              "       [ 3.,  6.],\n",
              "       [ 3.,  7.],\n",
              "       [ 6.,  3.],\n",
              "       [ 6.,  7.],\n",
              "       [ 6.,  8.],\n",
              "       [ 7.,  3.],\n",
              "       [ 7.,  6.],\n",
              "       [ 7.,  8.],\n",
              "       [ 8.,  6.],\n",
              "       [ 8.,  7.],\n",
              "       [ 1.,  6.],\n",
              "       [ 1.,  7.],\n",
              "       [ 6.,  1.],\n",
              "       [ 6.,  7.],\n",
              "       [ 6.,  9.],\n",
              "       [ 7.,  1.],\n",
              "       [ 7.,  6.],\n",
              "       [ 7.,  9.],\n",
              "       [ 9.,  6.],\n",
              "       [ 9.,  7.],\n",
              "       [ 1., 10.],\n",
              "       [ 1.,  3.],\n",
              "       [10.,  1.],\n",
              "       [10.,  3.],\n",
              "       [ 3.,  1.],\n",
              "       [ 3., 10.],\n",
              "       [ 1., 11.],\n",
              "       [ 1.,  3.],\n",
              "       [11.,  1.],\n",
              "       [11.,  3.],\n",
              "       [ 3.,  1.],\n",
              "       [ 3., 11.],\n",
              "       [ 1., 12.],\n",
              "       [ 1.,  3.],\n",
              "       [12.,  1.],\n",
              "       [12.,  3.],\n",
              "       [ 3.,  1.],\n",
              "       [ 3., 12.],\n",
              "       [ 3., 13.],\n",
              "       [ 3., 14.],\n",
              "       [13.,  3.],\n",
              "       [13., 14.],\n",
              "       [13.,  8.],\n",
              "       [14.,  3.],\n",
              "       [14., 13.],\n",
              "       [14.,  8.],\n",
              "       [ 8., 13.],\n",
              "       [ 8., 14.],\n",
              "       [ 1., 15.],\n",
              "       [ 1., 16.],\n",
              "       [15.,  1.],\n",
              "       [15., 16.],\n",
              "       [15., 17.],\n",
              "       [16.,  1.],\n",
              "       [16., 15.],\n",
              "       [16., 17.],\n",
              "       [17., 15.],\n",
              "       [17., 16.],\n",
              "       [ 1.,  2.],\n",
              "       [ 1.,  3.],\n",
              "       [ 2.,  1.],\n",
              "       [ 2.,  3.],\n",
              "       [ 2.,  4.],\n",
              "       [ 3.,  1.],\n",
              "       [ 3.,  2.],\n",
              "       [ 3.,  4.],\n",
              "       [ 3., 18.],\n",
              "       [ 4.,  2.],\n",
              "       [ 4.,  3.],\n",
              "       [ 4., 18.],\n",
              "       [18.,  3.],\n",
              "       [18.,  4.],\n",
              "       [ 1.,  2.],\n",
              "       [ 1.,  3.],\n",
              "       [ 2.,  1.],\n",
              "       [ 2.,  3.],\n",
              "       [ 2.,  4.],\n",
              "       [ 3.,  1.],\n",
              "       [ 3.,  2.],\n",
              "       [ 3.,  4.],\n",
              "       [ 3., 19.],\n",
              "       [ 4.,  2.],\n",
              "       [ 4.,  3.],\n",
              "       [ 4., 19.],\n",
              "       [19.,  3.],\n",
              "       [19.,  4.],\n",
              "       [ 3., 20.],\n",
              "       [ 3., 21.],\n",
              "       [20.,  3.],\n",
              "       [20., 21.],\n",
              "       [20.,  7.],\n",
              "       [21.,  3.],\n",
              "       [21., 20.],\n",
              "       [21.,  7.],\n",
              "       [21.,  8.],\n",
              "       [ 7., 20.],\n",
              "       [ 7., 21.],\n",
              "       [ 7.,  8.],\n",
              "       [ 8., 21.],\n",
              "       [ 8.,  7.],\n",
              "       [ 1., 20.],\n",
              "       [ 1., 21.],\n",
              "       [20.,  1.],\n",
              "       [20., 21.],\n",
              "       [20.,  7.],\n",
              "       [21.,  1.],\n",
              "       [21., 20.],\n",
              "       [21.,  7.],\n",
              "       [21.,  9.],\n",
              "       [ 7., 20.],\n",
              "       [ 7., 21.],\n",
              "       [ 7.,  9.],\n",
              "       [ 9., 21.],\n",
              "       [ 9.,  7.],\n",
              "       [ 3., 22.],\n",
              "       [ 3.,  7.],\n",
              "       [22.,  3.],\n",
              "       [22.,  7.],\n",
              "       [22.,  8.],\n",
              "       [ 7.,  3.],\n",
              "       [ 7., 22.],\n",
              "       [ 7.,  8.],\n",
              "       [ 8., 22.],\n",
              "       [ 8.,  7.],\n",
              "       [ 1., 22.],\n",
              "       [ 1.,  7.],\n",
              "       [22.,  1.],\n",
              "       [22.,  7.],\n",
              "       [22.,  9.],\n",
              "       [ 7.,  1.],\n",
              "       [ 7., 22.],\n",
              "       [ 7.,  9.],\n",
              "       [ 9., 22.],\n",
              "       [ 9.,  7.]])"
            ]
          },
          "metadata": {
            "tags": []
          },
          "execution_count": 162
        }
      ]
    },
    {
      "cell_type": "code",
      "metadata": {
        "id": "1cCkMThRNSU1",
        "colab_type": "code",
        "colab": {
          "base_uri": "https://localhost:8080/",
          "height": 136
        },
        "outputId": "edaf7812-8e4a-4bbe-a012-884074776d0d"
      },
      "source": [
        "enc = OneHotEncoder()\n",
        "enc.fit(np.array(range(30)).reshape(-1,1))\n",
        "onehot_label_x = enc.transform(training_data[:,0].reshape(-1,1)).toarray()\n",
        "onehot_label_x"
      ],
      "execution_count": 163,
      "outputs": [
        {
          "output_type": "execute_result",
          "data": {
            "text/plain": [
              "array([[0., 1., 0., ..., 0., 0., 0.],\n",
              "       [0., 1., 0., ..., 0., 0., 0.],\n",
              "       [0., 0., 1., ..., 0., 0., 0.],\n",
              "       ...,\n",
              "       [0., 0., 0., ..., 0., 0., 0.],\n",
              "       [0., 0., 0., ..., 0., 0., 0.],\n",
              "       [0., 0., 0., ..., 0., 0., 0.]])"
            ]
          },
          "metadata": {
            "tags": []
          },
          "execution_count": 163
        }
      ]
    },
    {
      "cell_type": "code",
      "metadata": {
        "id": "_pAvfZIAVsD2",
        "colab_type": "code",
        "colab": {
          "base_uri": "https://localhost:8080/",
          "height": 136
        },
        "outputId": "60e44a27-36e4-4fa5-bebf-e8289373c2c8"
      },
      "source": [
        "enc = OneHotEncoder()\n",
        "enc.fit(np.array(range(30)).reshape(-1,1))\n",
        "onehot_label_y = enc.transform(training_data[:,1].reshape(-1,1)).toarray()\n",
        "onehot_label_y"
      ],
      "execution_count": 164,
      "outputs": [
        {
          "output_type": "execute_result",
          "data": {
            "text/plain": [
              "array([[0., 0., 1., ..., 0., 0., 0.],\n",
              "       [0., 0., 0., ..., 0., 0., 0.],\n",
              "       [0., 1., 0., ..., 0., 0., 0.],\n",
              "       ...,\n",
              "       [0., 0., 0., ..., 0., 0., 0.],\n",
              "       [0., 0., 0., ..., 0., 0., 0.],\n",
              "       [0., 0., 0., ..., 0., 0., 0.]])"
            ]
          },
          "metadata": {
            "tags": []
          },
          "execution_count": 164
        }
      ]
    },
    {
      "cell_type": "code",
      "metadata": {
        "id": "2UgFWazLVwiL",
        "colab_type": "code",
        "colab": {
          "base_uri": "https://localhost:8080/",
          "height": 102
        },
        "outputId": "3225368b-a571-4a6e-f1c5-660dfa650b44"
      },
      "source": [
        "print(onehot_label_x[0])\n",
        "print(onehot_label_y[0])\n",
        "\n",
        "# From Numpy to Torch\n",
        "\n",
        "onehot_label_x = torch.from_numpy(onehot_label_x)\n",
        "onehot_label_y = torch.from_numpy(onehot_label_y)\n",
        "print(onehot_label_x.shape, onehot_label_y.shape)"
      ],
      "execution_count": 165,
      "outputs": [
        {
          "output_type": "stream",
          "text": [
            "[0. 1. 0. 0. 0. 0. 0. 0. 0. 0. 0. 0. 0. 0. 0. 0. 0. 0. 0. 0. 0. 0. 0. 0.\n",
            " 0. 0. 0. 0. 0. 0.]\n",
            "[0. 0. 1. 0. 0. 0. 0. 0. 0. 0. 0. 0. 0. 0. 0. 0. 0. 0. 0. 0. 0. 0. 0. 0.\n",
            " 0. 0. 0. 0. 0. 0.]\n",
            "torch.Size([148, 30]) torch.Size([148, 30])\n"
          ],
          "name": "stdout"
        }
      ]
    },
    {
      "cell_type": "code",
      "metadata": {
        "id": "0GOfG_SlV0pp",
        "colab_type": "code",
        "colab": {}
      },
      "source": [
        "class WEMB(nn.Module):\n",
        "  def __init__(self, input_size, hidden_size):\n",
        "    super(WEMB, self).__init__()\n",
        "    self.input_size = input_size\n",
        "    self.hidden_size = hidden_size\n",
        "    self.softmax = nn.Softmax(dim=1)\n",
        "    \n",
        "    self.l1 = nn.Linear(self.input_size, self.hidden_size, bias=False)\n",
        "    self.l2 = nn.Linear(self.hidden_size, self.input_size, bias=False)\n",
        "   \n",
        "  def forward(self, x):\n",
        "    out_bn = self.l1(x) # bn - bottle_neck\n",
        "    out = self.l2(out_bn)\n",
        "    out = self.softmax(out)\n",
        "    return out, out_bn\n",
        "\n",
        "device = torch.device('cuda' if torch.cuda.is_available() else 'cpu')"
      ],
      "execution_count": 166,
      "outputs": []
    },
    {
      "cell_type": "code",
      "metadata": {
        "id": "tqWENSswhI02",
        "colab_type": "code",
        "colab": {
          "base_uri": "https://localhost:8080/",
          "height": 52
        },
        "outputId": "3577dcf1-d2b8-431e-e135-d29744a8ca28"
      },
      "source": [
        "'''\n",
        "m = nn.Softmax() #nn.Sigmoid()\n",
        "loss = nn.BCELoss()\n",
        "input = torch.tensor([0.9,0.0,0.0]) #torch.randn(3, requires_grad=True)\n",
        "target = torch.tensor([1.0,0.0,0.0])\n",
        "output = loss(m(input), target)\n",
        "print(input, m(input), target) tensor([0.9000, 0.0000, 0.0000]) tensor([0.5515, 0.2242, 0.2242]) tensor([1., 0., 0.])\n",
        "output -> 0.36\n",
        "'''\n",
        "\n",
        "'''\n",
        "m = nn.Sigmoid()\n",
        "loss = nn.BCELoss()\n",
        "input = torch.tensor([0.9,0.0,0.0])\n",
        "target = torch.tensor([1.0,0.0,0.0])\n",
        "output = loss(m(input), target)\n",
        "print(input, m(input), target) tensor([0.9000, 0.0000, 0.0000]) tensor([0.7109, 0.5000, 0.5000]) tensor([1., 0., 0.])\n",
        "output -> 0.5758\n",
        "'''"
      ],
      "execution_count": 167,
      "outputs": [
        {
          "output_type": "execute_result",
          "data": {
            "application/vnd.google.colaboratory.intrinsic+json": {
              "type": "string"
            },
            "text/plain": [
              "'\\nm = nn.Sigmoid()\\nloss = nn.BCELoss()\\ninput = torch.tensor([0.9,0.0,0.0])\\ntarget = torch.tensor([1.0,0.0,0.0])\\noutput = loss(m(input), target)\\nprint(input, m(input), target) tensor([0.9000, 0.0000, 0.0000]) tensor([0.7109, 0.5000, 0.5000]) tensor([1., 0., 0.])\\noutput -> 0.5758\\n'"
            ]
          },
          "metadata": {
            "tags": []
          },
          "execution_count": 167
        }
      ]
    },
    {
      "cell_type": "code",
      "metadata": {
        "id": "y3hfsBELY8-s",
        "colab_type": "code",
        "colab": {
          "base_uri": "https://localhost:8080/",
          "height": 496
        },
        "outputId": "f18c3e93-b130-48c1-d19c-f4f7d43c1bf0"
      },
      "source": [
        "input_size = 30\n",
        "hidden_size = 2\n",
        "learning_rate = 0.01\n",
        "num_epochs = 10000\n",
        "\n",
        "untrained_model = WEMB(input_size, hidden_size).to(device)\n",
        "model = WEMB(input_size, hidden_size).to(device)\n",
        "model.train(True)\n",
        "print(model)\n",
        "print()\n",
        "\n",
        "# Loss and optimizer\n",
        "criterion = nn.BCELoss()\n",
        "#optimizer = torch.optim.Adam(model.parameters(), lr=learning_rate) \n",
        "optimizer = torch.optim.SGD(model.parameters(), lr=learning_rate, momentum=0, dampening=0, weight_decay=0, nesterov=False)\n",
        "summary(model, torch.ones((1,30))) "
      ],
      "execution_count": 172,
      "outputs": [
        {
          "output_type": "stream",
          "text": [
            "WEMB(\n",
            "  (softmax): Softmax(dim=1)\n",
            "  (l1): Linear(in_features=30, out_features=2, bias=False)\n",
            "  (l2): Linear(in_features=2, out_features=30, bias=False)\n",
            ")\n",
            "\n",
            "======================================================\n",
            "          Kernel Shape Output Shape Params Mult-Adds\n",
            "Layer                                               \n",
            "0_l1           [30, 2]       [1, 2]   60.0      60.0\n",
            "1_l2           [2, 30]      [1, 30]   60.0      60.0\n",
            "2_softmax            -      [1, 30]      -         -\n",
            "------------------------------------------------------\n",
            "                      Totals\n",
            "Total params           120.0\n",
            "Trainable params       120.0\n",
            "Non-trainable params     0.0\n",
            "Mult-Adds              120.0\n",
            "======================================================\n"
          ],
          "name": "stdout"
        },
        {
          "output_type": "execute_result",
          "data": {
            "text/html": [
              "<div>\n",
              "<style scoped>\n",
              "    .dataframe tbody tr th:only-of-type {\n",
              "        vertical-align: middle;\n",
              "    }\n",
              "\n",
              "    .dataframe tbody tr th {\n",
              "        vertical-align: top;\n",
              "    }\n",
              "\n",
              "    .dataframe thead th {\n",
              "        text-align: right;\n",
              "    }\n",
              "</style>\n",
              "<table border=\"1\" class=\"dataframe\">\n",
              "  <thead>\n",
              "    <tr style=\"text-align: right;\">\n",
              "      <th></th>\n",
              "      <th>Kernel Shape</th>\n",
              "      <th>Output Shape</th>\n",
              "      <th>Params</th>\n",
              "      <th>Mult-Adds</th>\n",
              "    </tr>\n",
              "    <tr>\n",
              "      <th>Layer</th>\n",
              "      <th></th>\n",
              "      <th></th>\n",
              "      <th></th>\n",
              "      <th></th>\n",
              "    </tr>\n",
              "  </thead>\n",
              "  <tbody>\n",
              "    <tr>\n",
              "      <th>0_l1</th>\n",
              "      <td>[30, 2]</td>\n",
              "      <td>[1, 2]</td>\n",
              "      <td>60.0</td>\n",
              "      <td>60.0</td>\n",
              "    </tr>\n",
              "    <tr>\n",
              "      <th>1_l2</th>\n",
              "      <td>[2, 30]</td>\n",
              "      <td>[1, 30]</td>\n",
              "      <td>60.0</td>\n",
              "      <td>60.0</td>\n",
              "    </tr>\n",
              "    <tr>\n",
              "      <th>2_softmax</th>\n",
              "      <td>-</td>\n",
              "      <td>[1, 30]</td>\n",
              "      <td>NaN</td>\n",
              "      <td>NaN</td>\n",
              "    </tr>\n",
              "  </tbody>\n",
              "</table>\n",
              "</div>"
            ],
            "text/plain": [
              "          Kernel Shape Output Shape  Params  Mult-Adds\n",
              "Layer                                                 \n",
              "0_l1           [30, 2]       [1, 2]    60.0       60.0\n",
              "1_l2           [2, 30]      [1, 30]    60.0       60.0\n",
              "2_softmax            -      [1, 30]     NaN        NaN"
            ]
          },
          "metadata": {
            "tags": []
          },
          "execution_count": 172
        }
      ]
    },
    {
      "cell_type": "code",
      "metadata": {
        "id": "TTq5K3m8aKWe",
        "colab_type": "code",
        "colab": {
          "base_uri": "https://localhost:8080/",
          "height": 1000
        },
        "outputId": "7f9a365e-d406-459b-ba5f-40b666bdc248"
      },
      "source": [
        "loss_val = []\n",
        "onehot_label_x = onehot_label_x.to(device)\n",
        "onehot_label_y = onehot_label_y.to(device)\n",
        "\n",
        "for epoch in range(num_epochs):\n",
        "  for i in range(onehot_label_y.shape[0]):\n",
        "      inputs = onehot_label_x[i].float()\n",
        "      labels = onehot_label_y[i].float()\n",
        "      inputs = inputs.unsqueeze(0)\n",
        "      labels = labels.unsqueeze(0)\n",
        "\n",
        "      # Forward pass\n",
        "      output, wemb = model(inputs)\n",
        "      loss = criterion(output, labels)\n",
        "\n",
        "      # Backward and optimize\n",
        "      optimizer.zero_grad()\n",
        "      loss.backward()\n",
        "      optimizer.step()\n",
        "  loss_val.append(loss.item())\n",
        "\n",
        "  if (epoch+1) % 100 == 0:\n",
        "    print (f'Epoch [{epoch+1}/{num_epochs}], Loss: {loss.item():.4f}')\n",
        "\n",
        "plt.plot(loss_val)"
      ],
      "execution_count": 173,
      "outputs": [
        {
          "output_type": "stream",
          "text": [
            "Epoch [100/10000], Loss: 0.1461\n",
            "Epoch [200/10000], Loss: 0.1448\n",
            "Epoch [300/10000], Loss: 0.1427\n",
            "Epoch [400/10000], Loss: 0.1397\n",
            "Epoch [500/10000], Loss: 0.1355\n",
            "Epoch [600/10000], Loss: 0.1302\n",
            "Epoch [700/10000], Loss: 0.1241\n",
            "Epoch [800/10000], Loss: 0.1177\n",
            "Epoch [900/10000], Loss: 0.1112\n",
            "Epoch [1000/10000], Loss: 0.1051\n",
            "Epoch [1100/10000], Loss: 0.0998\n",
            "Epoch [1200/10000], Loss: 0.0953\n",
            "Epoch [1300/10000], Loss: 0.0917\n",
            "Epoch [1400/10000], Loss: 0.0887\n",
            "Epoch [1500/10000], Loss: 0.0863\n",
            "Epoch [1600/10000], Loss: 0.0844\n",
            "Epoch [1700/10000], Loss: 0.0828\n",
            "Epoch [1800/10000], Loss: 0.0814\n",
            "Epoch [1900/10000], Loss: 0.0802\n",
            "Epoch [2000/10000], Loss: 0.0791\n",
            "Epoch [2100/10000], Loss: 0.0781\n",
            "Epoch [2200/10000], Loss: 0.0772\n",
            "Epoch [2300/10000], Loss: 0.0763\n",
            "Epoch [2400/10000], Loss: 0.0755\n",
            "Epoch [2500/10000], Loss: 0.0746\n",
            "Epoch [2600/10000], Loss: 0.0738\n",
            "Epoch [2700/10000], Loss: 0.0729\n",
            "Epoch [2800/10000], Loss: 0.0720\n",
            "Epoch [2900/10000], Loss: 0.0711\n",
            "Epoch [3000/10000], Loss: 0.0702\n",
            "Epoch [3100/10000], Loss: 0.0692\n",
            "Epoch [3200/10000], Loss: 0.0682\n",
            "Epoch [3300/10000], Loss: 0.0671\n",
            "Epoch [3400/10000], Loss: 0.0659\n",
            "Epoch [3500/10000], Loss: 0.0647\n",
            "Epoch [3600/10000], Loss: 0.0634\n",
            "Epoch [3700/10000], Loss: 0.0621\n",
            "Epoch [3800/10000], Loss: 0.0607\n",
            "Epoch [3900/10000], Loss: 0.0593\n",
            "Epoch [4000/10000], Loss: 0.0579\n",
            "Epoch [4100/10000], Loss: 0.0564\n",
            "Epoch [4200/10000], Loss: 0.0551\n",
            "Epoch [4300/10000], Loss: 0.0537\n",
            "Epoch [4400/10000], Loss: 0.0525\n",
            "Epoch [4500/10000], Loss: 0.0513\n",
            "Epoch [4600/10000], Loss: 0.0502\n",
            "Epoch [4700/10000], Loss: 0.0492\n",
            "Epoch [4800/10000], Loss: 0.0483\n",
            "Epoch [4900/10000], Loss: 0.0475\n",
            "Epoch [5000/10000], Loss: 0.0468\n",
            "Epoch [5100/10000], Loss: 0.0462\n",
            "Epoch [5200/10000], Loss: 0.0457\n",
            "Epoch [5300/10000], Loss: 0.0453\n",
            "Epoch [5400/10000], Loss: 0.0449\n",
            "Epoch [5500/10000], Loss: 0.0446\n",
            "Epoch [5600/10000], Loss: 0.0443\n",
            "Epoch [5700/10000], Loss: 0.0441\n",
            "Epoch [5800/10000], Loss: 0.0439\n",
            "Epoch [5900/10000], Loss: 0.0437\n",
            "Epoch [6000/10000], Loss: 0.0436\n",
            "Epoch [6100/10000], Loss: 0.0435\n",
            "Epoch [6200/10000], Loss: 0.0433\n",
            "Epoch [6300/10000], Loss: 0.0432\n",
            "Epoch [6400/10000], Loss: 0.0431\n",
            "Epoch [6500/10000], Loss: 0.0430\n",
            "Epoch [6600/10000], Loss: 0.0430\n",
            "Epoch [6700/10000], Loss: 0.0429\n",
            "Epoch [6800/10000], Loss: 0.0428\n",
            "Epoch [6900/10000], Loss: 0.0427\n",
            "Epoch [7000/10000], Loss: 0.0427\n",
            "Epoch [7100/10000], Loss: 0.0426\n",
            "Epoch [7200/10000], Loss: 0.0426\n",
            "Epoch [7300/10000], Loss: 0.0425\n",
            "Epoch [7400/10000], Loss: 0.0425\n",
            "Epoch [7500/10000], Loss: 0.0424\n",
            "Epoch [7600/10000], Loss: 0.0424\n",
            "Epoch [7700/10000], Loss: 0.0423\n",
            "Epoch [7800/10000], Loss: 0.0423\n",
            "Epoch [7900/10000], Loss: 0.0422\n",
            "Epoch [8000/10000], Loss: 0.0422\n",
            "Epoch [8100/10000], Loss: 0.0422\n",
            "Epoch [8200/10000], Loss: 0.0422\n",
            "Epoch [8300/10000], Loss: 0.0421\n",
            "Epoch [8400/10000], Loss: 0.0421\n",
            "Epoch [8500/10000], Loss: 0.0421\n",
            "Epoch [8600/10000], Loss: 0.0421\n",
            "Epoch [8700/10000], Loss: 0.0420\n",
            "Epoch [8800/10000], Loss: 0.0420\n",
            "Epoch [8900/10000], Loss: 0.0420\n",
            "Epoch [9000/10000], Loss: 0.0420\n",
            "Epoch [9100/10000], Loss: 0.0420\n",
            "Epoch [9200/10000], Loss: 0.0419\n",
            "Epoch [9300/10000], Loss: 0.0419\n",
            "Epoch [9400/10000], Loss: 0.0419\n",
            "Epoch [9500/10000], Loss: 0.0419\n",
            "Epoch [9600/10000], Loss: 0.0419\n",
            "Epoch [9700/10000], Loss: 0.0418\n",
            "Epoch [9800/10000], Loss: 0.0418\n",
            "Epoch [9900/10000], Loss: 0.0418\n",
            "Epoch [10000/10000], Loss: 0.0418\n"
          ],
          "name": "stdout"
        },
        {
          "output_type": "execute_result",
          "data": {
            "text/plain": [
              "[<matplotlib.lines.Line2D at 0x7fec32280b70>]"
            ]
          },
          "metadata": {
            "tags": []
          },
          "execution_count": 173
        },
        {
          "output_type": "display_data",
          "data": {
            "image/png": "[encoded data removed]",
            "text/plain": [
              "<Figure size 432x288 with 1 Axes>"
            ]
          },
          "metadata": {
            "tags": [],
            "needs_background": "light"
          }
        }
      ]
    },
    {
      "cell_type": "code",
      "metadata": {
        "id": "vO3D_RnikjkB",
        "colab_type": "code",
        "colab": {
          "base_uri": "https://localhost:8080/",
          "height": 71
        },
        "outputId": "c2b01e57-a98d-47cf-914c-3c7ec36587ef"
      },
      "source": [
        "docs = ['cat and mice are buddies hole lives in house chases catches runs into says bad words pals chums stores sleeps']\n",
        "encoded_docs = [one_hot_map(d) for d in docs]\n",
        "\n",
        "test_arr = np.array([[ 1.,  2., 3., 4., 5., 8., 6., 7., 9., 10., 11., 13., 14., 15., 16., 17., 18., 19., 20., 22.]])\n",
        "test = enc.transform(test_arr.reshape(-1,1)).toarray()\n",
        "\n",
        "output = []\n",
        "for i in range(test.shape[0]):\n",
        "  _, wemb2 = model(torch.from_numpy(test[i]).unsqueeze(0).float())\n",
        "  wemb2 = wemb2[0].detach().cpu().numpy()\n",
        "  output.append(wemb2)\n",
        "print(len(output))\n",
        "print(output)"
      ],
      "execution_count": 174,
      "outputs": [
        {
          "output_type": "stream",
          "text": [
            "20\n",
            "[array([-0.31606016,  0.47879812], dtype=float32), array([0.11870998, 3.704355  ], dtype=float32), array([-0.02647777,  0.58047426], dtype=float32), array([-2.7212205 , -0.15240875], dtype=float32), array([-0.8489188,  1.7500181], dtype=float32), array([2.3317266 , 0.27839568], dtype=float32), array([0.64955014, 2.5612757 ], dtype=float32), array([0.3878987, 1.1554354], dtype=float32), array([2.8160677, 0.6257389], dtype=float32), array([0.08442795, 2.9699514 ], dtype=float32), array([0.08744251, 2.9864902 ], dtype=float32), array([-0.10781598,  0.87140197], dtype=float32), array([-0.10247965,  0.87923723], dtype=float32), array([ 1.86401   , -0.57549864], dtype=float32), array([ 1.4402062 , -0.50253433], dtype=float32), array([ 0.3084917, -2.6867192], dtype=float32), array([-0.8497961,  1.744398 ], dtype=float32), array([-0.84921193,  1.7490457 ], dtype=float32), array([0.8418646, 2.1882472], dtype=float32), array([0.6494018, 2.5602448], dtype=float32)]\n"
          ],
          "name": "stdout"
        }
      ]
    },
    {
      "cell_type": "code",
      "metadata": {
        "id": "LQ4CWsE1YRYy",
        "colab_type": "code",
        "colab": {
          "base_uri": "https://localhost:8080/",
          "height": 357
        },
        "outputId": "90ef5b19-884e-4d89-d2bb-03998d92520a"
      },
      "source": [
        "docs = ['cat', 'and', 'mice', 'are', 'buddies', 'hole', 'lives', 'in', 'house', 'chases', 'catches', 'runs', 'into', 'says', 'bad', 'words', 'pals', 'chums', 'stores', 'sleeps']\n",
        "for i in range(0, len(docs)):\n",
        "  print(\"Word - {} - It's Word Embeddings : {:.3} & {:.3} -\".format(docs[i], output[i][0], output[i][0]))"
      ],
      "execution_count": 154,
      "outputs": [
        {
          "output_type": "stream",
          "text": [
            "Word - cat - It's Word Embeddings : -0.0428 & -0.0428 -\n",
            "Word - and - It's Word Embeddings : -0.152 & -0.152 -\n",
            "Word - mice - It's Word Embeddings : 0.113 & 0.113 -\n",
            "Word - are - It's Word Embeddings : -0.151 & -0.151 -\n",
            "Word - buddies - It's Word Embeddings : -0.121 & -0.121 -\n",
            "Word - hole - It's Word Embeddings : -0.0583 & -0.0583 -\n",
            "Word - lives - It's Word Embeddings : 0.116 & 0.116 -\n",
            "Word - in - It's Word Embeddings : 0.0778 & 0.0778 -\n",
            "Word - house - It's Word Embeddings : 0.0933 & 0.0933 -\n",
            "Word - chases - It's Word Embeddings : 0.00153 & 0.00153 -\n",
            "Word - catches - It's Word Embeddings : -0.119 & -0.119 -\n",
            "Word - runs - It's Word Embeddings : -0.0713 & -0.0713 -\n",
            "Word - into - It's Word Embeddings : 0.0398 & 0.0398 -\n",
            "Word - says - It's Word Embeddings : 0.104 & 0.104 -\n",
            "Word - bad - It's Word Embeddings : 0.151 & 0.151 -\n",
            "Word - words - It's Word Embeddings : 0.169 & 0.169 -\n",
            "Word - pals - It's Word Embeddings : -0.0761 & -0.0761 -\n",
            "Word - chums - It's Word Embeddings : -0.124 & -0.124 -\n",
            "Word - stores - It's Word Embeddings : -0.0167 & -0.0167 -\n",
            "Word - sleeps - It's Word Embeddings : 0.128 & 0.128 -\n"
          ],
          "name": "stdout"
        }
      ]
    },
    {
      "cell_type": "code",
      "metadata": {
        "id": "ebJaDdJ5osRo",
        "colab_type": "code",
        "colab": {
          "base_uri": "https://localhost:8080/",
          "height": 770
        },
        "outputId": "c7d04e76-d51a-47f3-cd9a-3f5312862772"
      },
      "source": [
        "xs = []\n",
        "ys = []\n",
        "for i in range(len(output)):\n",
        "  xs.append(output[i][0])\n",
        "  ys.append(output[i][1])\n",
        "print(xs, ys)\n",
        "\n",
        "docs = ['cat', 'and', 'mice', 'are', 'buddies', 'hole', 'lives', 'in', 'house', 'chases', 'catches', 'runs', 'into', 'says', 'bad', 'words', 'pals', \\\n",
        "        'chums', 'stores', 'sleeps']\n",
        "\n",
        "plt.clf()\n",
        "plt.figure(figsize=(12,12))\n",
        "plt.scatter(xs,ys)\n",
        "label = docs\n",
        "\n",
        "for i,(x,y) in enumerate(zip(xs,ys)):\n",
        "  plt.annotate(label[i], (x,y), textcoords=\"offset points\", xytext=(0,10), fontsize=20, ha = random.choice(['left', 'right']))\n",
        "  plt.title(\"Trained Model\")\n",
        "plt.show()"
      ],
      "execution_count": 122,
      "outputs": [
        {
          "output_type": "stream",
          "text": [
            "[-0.77174056, -2.6975653, -0.7440629, -1.3513004, -1.8827567, -0.9547955, -1.5381078, -0.78968775, -1.6798445, -2.4089494, -2.4038322, -0.4912264, -0.46597198, -0.6022128, -0.5429058, 0.30888712, -1.8706342, -1.8906851, -1.8495681, -1.5377734] [-0.26284522, -1.3949245, -0.18110614, -1.5926436, -0.79568034, 1.2527305, 2.2406118, 1.4590931, 2.1471748, -0.12073173, -0.11152688, 1.0223488, 1.0968646, -1.6286496, -1.3965739, -2.1094017, -0.7624414, -0.8023815, 1.6694156, 2.2398808]\n"
          ],
          "name": "stdout"
        },
        {
          "output_type": "display_data",
          "data": {
            "text/plain": [
              "<Figure size 432x288 with 0 Axes>"
            ]
          },
          "metadata": {
            "tags": []
          }
        },
        {
          "output_type": "display_data",
          "data": {
            "image/png": "[encoded data removed]",
            "text/plain": [
              "<Figure size 864x864 with 1 Axes>"
            ]
          },
          "metadata": {
            "tags": [],
            "needs_background": "light"
          }
        }
      ]
    },
    {
      "cell_type": "code",
      "metadata": {
        "id": "qemkq05po5d4",
        "colab_type": "code",
        "colab": {
          "base_uri": "https://localhost:8080/",
          "height": 817
        },
        "outputId": "da1798cf-6f8d-4b4b-957f-03ad03b4daa6"
      },
      "source": [
        "import plotly\n",
        "import plotly.express as px\n",
        "\n",
        "import plotly.express as px\n",
        "fig = px.scatter(x=xs, y=ys, text=docs, size_max=100)\n",
        "fig.update_traces(textposition= random.choice(['top center', 'bottom center','bottom left']))\n",
        "fig.update_layout(height=800,title_text='Custom Word Embeddings')\n",
        "fig.show()"
      ],
      "execution_count": 121,
      "outputs": [
        {
          "output_type": "display_data",
          "data": {
            "text/html": [
              "<html>\n",
              "<head><meta charset=\"utf-8\" /></head>\n",
              "<body>\n",
              "    <div>\n",
              "            <script src=\"https://cdnjs.cloudflare.com/ajax/libs/mathjax/2.7.5/MathJax.js?config=TeX-AMS-MML_SVG\"></script><script type=\"text/javascript\">if (window.MathJax) {MathJax.Hub.Config({SVG: {font: \"STIX-Web\"}});}</script>\n",
              "                <script type=\"text/javascript\">window.PlotlyConfig = {MathJaxConfig: 'local'};</script>\n",
              "        <script src=\"https://cdn.plot.ly/plotly-latest.min.js\"></script>    \n",
              "            <div id=\"6f451c27-3051-44e6-9b6b-f1b409463d08\" class=\"plotly-graph-div\" style=\"height:800px; width:100%;\"></div>\n",
              "            <script type=\"text/javascript\">\n",
              "                \n",
              "                    window.PLOTLYENV=window.PLOTLYENV || {};\n",
              "                    \n",
              "                if (document.getElementById(\"6f451c27-3051-44e6-9b6b-f1b409463d08\")) {\n",
              "                    Plotly.newPlot(\n",
              "                        '6f451c27-3051-44e6-9b6b-f1b409463d08',\n",
              "                        [{\"hoverlabel\": {\"namelength\": 0}, \"hovertemplate\": \"x=%{x}<br>y=%{y}<br>text=%{text}\", \"legendgroup\": \"\", \"marker\": {\"color\": \"#636efa\", \"symbol\": \"circle\"}, \"mode\": \"markers+text\", \"name\": \"\", \"showlegend\": false, \"text\": [\"cat\", \"and\", \"mice\", \"are\", \"buddies\", \"hole\", \"lives\", \"in\", \"house\", \"chases\", \"catches\", \"runs\", \"into\", \"says\", \"bad\", \"words\", \"pals\", \"chums\", \"stores\", \"sleeps\"], \"textposition\": \"top center\", \"type\": \"scatter\", \"x\": [-0.7717405557632446, -2.6975653171539307, -0.7440629005432129, -1.3513003587722778, -1.8827567100524902, -0.9547954797744751, -1.5381077527999878, -0.7896877527236938, -1.6798444986343384, -2.408949375152588, -2.403832197189331, -0.4912264049053192, -0.465971976518631, -0.6022127866744995, -0.5429058074951172, 0.3088871240615845, -1.8706341981887817, -1.8906850814819336, -1.8495681285858154, -1.5377733707427979], \"xaxis\": \"x\", \"y\": [-0.2628452181816101, -1.394924521446228, -0.18110613524913788, -1.5926436185836792, -0.7956803441047668, 1.2527304887771606, 2.2406117916107178, 1.4590930938720703, 2.147174835205078, -0.12073172628879547, -0.11152687668800354, 1.0223487615585327, 1.0968645811080933, -1.6286495923995972, -1.3965739011764526, -2.1094017028808594, -0.7624413967132568, -0.8023815155029297, 1.6694155931472778, 2.2398808002471924], \"yaxis\": \"y\"}],\n",
              "                        {\"height\": 800, \"legend\": {\"tracegroupgap\": 0}, \"margin\": {\"t\": 60}, \"template\": {\"data\": {\"bar\": [{\"error_x\": {\"color\": \"#2a3f5f\"}, \"error_y\": {\"color\": \"#2a3f5f\"}, \"marker\": {\"line\": {\"color\": \"#E5ECF6\", \"width\": 0.5}}, \"type\": \"bar\"}], \"barpolar\": [{\"marker\": {\"line\": {\"color\": \"#E5ECF6\", \"width\": 0.5}}, \"type\": \"barpolar\"}], \"carpet\": [{\"aaxis\": {\"endlinecolor\": \"#2a3f5f\", \"gridcolor\": \"white\", \"linecolor\": \"white\", \"minorgridcolor\": \"white\", \"startlinecolor\": \"#2a3f5f\"}, \"baxis\": {\"endlinecolor\": \"#2a3f5f\", \"gridcolor\": \"white\", \"linecolor\": \"white\", \"minorgridcolor\": \"white\", \"startlinecolor\": \"#2a3f5f\"}, \"type\": \"carpet\"}], \"choropleth\": [{\"colorbar\": {\"outlinewidth\": 0, \"ticks\": \"\"}, \"type\": \"choropleth\"}], \"contour\": [{\"colorbar\": {\"outlinewidth\": 0, \"ticks\": \"\"}, \"colorscale\": [[0.0, \"#0d0887\"], [0.1111111111111111, \"#46039f\"], [0.2222222222222222, \"#7201a8\"], [0.3333333333333333, \"#9c179e\"], [0.4444444444444444, \"#bd3786\"], [0.5555555555555556, \"#d8576b\"], [0.6666666666666666, \"#ed7953\"], [0.7777777777777778, \"#fb9f3a\"], [0.8888888888888888, \"#fdca26\"], [1.0, \"#f0f921\"]], \"type\": \"contour\"}], \"contourcarpet\": [{\"colorbar\": {\"outlinewidth\": 0, \"ticks\": \"\"}, \"type\": \"contourcarpet\"}], \"heatmap\": [{\"colorbar\": {\"outlinewidth\": 0, \"ticks\": \"\"}, \"colorscale\": [[0.0, \"#0d0887\"], [0.1111111111111111, \"#46039f\"], [0.2222222222222222, \"#7201a8\"], [0.3333333333333333, \"#9c179e\"], [0.4444444444444444, \"#bd3786\"], [0.5555555555555556, \"#d8576b\"], [0.6666666666666666, \"#ed7953\"], [0.7777777777777778, \"#fb9f3a\"], [0.8888888888888888, \"#fdca26\"], [1.0, \"#f0f921\"]], \"type\": \"heatmap\"}], \"heatmapgl\": [{\"colorbar\": {\"outlinewidth\": 0, \"ticks\": \"\"}, \"colorscale\": [[0.0, \"#0d0887\"], [0.1111111111111111, \"#46039f\"], [0.2222222222222222, \"#7201a8\"], [0.3333333333333333, \"#9c179e\"], [0.4444444444444444, \"#bd3786\"], [0.5555555555555556, \"#d8576b\"], [0.6666666666666666, \"#ed7953\"], [0.7777777777777778, \"#fb9f3a\"], [0.8888888888888888, \"#fdca26\"], [1.0, \"#f0f921\"]], \"type\": \"heatmapgl\"}], \"histogram\": [{\"marker\": {\"colorbar\": {\"outlinewidth\": 0, \"ticks\": \"\"}}, \"type\": \"histogram\"}], \"histogram2d\": [{\"colorbar\": {\"outlinewidth\": 0, \"ticks\": \"\"}, \"colorscale\": [[0.0, \"#0d0887\"], [0.1111111111111111, \"#46039f\"], [0.2222222222222222, \"#7201a8\"], [0.3333333333333333, \"#9c179e\"], [0.4444444444444444, \"#bd3786\"], [0.5555555555555556, \"#d8576b\"], [0.6666666666666666, \"#ed7953\"], [0.7777777777777778, \"#fb9f3a\"], [0.8888888888888888, \"#fdca26\"], [1.0, \"#f0f921\"]], \"type\": \"histogram2d\"}], \"histogram2dcontour\": [{\"colorbar\": {\"outlinewidth\": 0, \"ticks\": \"\"}, \"colorscale\": [[0.0, \"#0d0887\"], [0.1111111111111111, \"#46039f\"], [0.2222222222222222, \"#7201a8\"], [0.3333333333333333, \"#9c179e\"], [0.4444444444444444, \"#bd3786\"], [0.5555555555555556, \"#d8576b\"], [0.6666666666666666, \"#ed7953\"], [0.7777777777777778, \"#fb9f3a\"], [0.8888888888888888, \"#fdca26\"], [1.0, \"#f0f921\"]], \"type\": \"histogram2dcontour\"}], \"mesh3d\": [{\"colorbar\": {\"outlinewidth\": 0, \"ticks\": \"\"}, \"type\": \"mesh3d\"}], \"parcoords\": [{\"line\": {\"colorbar\": {\"outlinewidth\": 0, \"ticks\": \"\"}}, \"type\": \"parcoords\"}], \"pie\": [{\"automargin\": true, \"type\": \"pie\"}], \"scatter\": [{\"marker\": {\"colorbar\": {\"outlinewidth\": 0, \"ticks\": \"\"}}, \"type\": \"scatter\"}], \"scatter3d\": [{\"line\": {\"colorbar\": {\"outlinewidth\": 0, \"ticks\": \"\"}}, \"marker\": {\"colorbar\": {\"outlinewidth\": 0, \"ticks\": \"\"}}, \"type\": \"scatter3d\"}], \"scattercarpet\": [{\"marker\": {\"colorbar\": {\"outlinewidth\": 0, \"ticks\": \"\"}}, \"type\": \"scattercarpet\"}], \"scattergeo\": [{\"marker\": {\"colorbar\": {\"outlinewidth\": 0, \"ticks\": \"\"}}, \"type\": \"scattergeo\"}], \"scattergl\": [{\"marker\": {\"colorbar\": {\"outlinewidth\": 0, \"ticks\": \"\"}}, \"type\": \"scattergl\"}], \"scattermapbox\": [{\"marker\": {\"colorbar\": {\"outlinewidth\": 0, \"ticks\": \"\"}}, \"type\": \"scattermapbox\"}], \"scatterpolar\": [{\"marker\": {\"colorbar\": {\"outlinewidth\": 0, \"ticks\": \"\"}}, \"type\": \"scatterpolar\"}], \"scatterpolargl\": [{\"marker\": {\"colorbar\": {\"outlinewidth\": 0, \"ticks\": \"\"}}, \"type\": \"scatterpolargl\"}], \"scatterternary\": [{\"marker\": {\"colorbar\": {\"outlinewidth\": 0, \"ticks\": \"\"}}, \"type\": \"scatterternary\"}], \"surface\": [{\"colorbar\": {\"outlinewidth\": 0, \"ticks\": \"\"}, \"colorscale\": [[0.0, \"#0d0887\"], [0.1111111111111111, \"#46039f\"], [0.2222222222222222, \"#7201a8\"], [0.3333333333333333, \"#9c179e\"], [0.4444444444444444, \"#bd3786\"], [0.5555555555555556, \"#d8576b\"], [0.6666666666666666, \"#ed7953\"], [0.7777777777777778, \"#fb9f3a\"], [0.8888888888888888, \"#fdca26\"], [1.0, \"#f0f921\"]], \"type\": \"surface\"}], \"table\": [{\"cells\": {\"fill\": {\"color\": \"#EBF0F8\"}, \"line\": {\"color\": \"white\"}}, \"header\": {\"fill\": {\"color\": \"#C8D4E3\"}, \"line\": {\"color\": \"white\"}}, \"type\": \"table\"}]}, \"layout\": {\"annotationdefaults\": {\"arrowcolor\": \"#2a3f5f\", \"arrowhead\": 0, \"arrowwidth\": 1}, \"coloraxis\": {\"colorbar\": {\"outlinewidth\": 0, \"ticks\": \"\"}}, \"colorscale\": {\"diverging\": [[0, \"#8e0152\"], [0.1, \"#c51b7d\"], [0.2, \"#de77ae\"], [0.3, \"#f1b6da\"], [0.4, \"#fde0ef\"], [0.5, \"#f7f7f7\"], [0.6, \"#e6f5d0\"], [0.7, \"#b8e186\"], [0.8, \"#7fbc41\"], [0.9, \"#4d9221\"], [1, \"#276419\"]], \"sequential\": [[0.0, \"#0d0887\"], [0.1111111111111111, \"#46039f\"], [0.2222222222222222, \"#7201a8\"], [0.3333333333333333, \"#9c179e\"], [0.4444444444444444, \"#bd3786\"], [0.5555555555555556, \"#d8576b\"], [0.6666666666666666, \"#ed7953\"], [0.7777777777777778, \"#fb9f3a\"], [0.8888888888888888, \"#fdca26\"], [1.0, \"#f0f921\"]], \"sequentialminus\": [[0.0, \"#0d0887\"], [0.1111111111111111, \"#46039f\"], [0.2222222222222222, \"#7201a8\"], [0.3333333333333333, \"#9c179e\"], [0.4444444444444444, \"#bd3786\"], [0.5555555555555556, \"#d8576b\"], [0.6666666666666666, \"#ed7953\"], [0.7777777777777778, \"#fb9f3a\"], [0.8888888888888888, \"#fdca26\"], [1.0, \"#f0f921\"]]}, \"colorway\": [\"#636efa\", \"#EF553B\", \"#00cc96\", \"#ab63fa\", \"#FFA15A\", \"#19d3f3\", \"#FF6692\", \"#B6E880\", \"#FF97FF\", \"#FECB52\"], \"font\": {\"color\": \"#2a3f5f\"}, \"geo\": {\"bgcolor\": \"white\", \"lakecolor\": \"white\", \"landcolor\": \"#E5ECF6\", \"showlakes\": true, \"showland\": true, \"subunitcolor\": \"white\"}, \"hoverlabel\": {\"align\": \"left\"}, \"hovermode\": \"closest\", \"mapbox\": {\"style\": \"light\"}, \"paper_bgcolor\": \"white\", \"plot_bgcolor\": \"#E5ECF6\", \"polar\": {\"angularaxis\": {\"gridcolor\": \"white\", \"linecolor\": \"white\", \"ticks\": \"\"}, \"bgcolor\": \"#E5ECF6\", \"radialaxis\": {\"gridcolor\": \"white\", \"linecolor\": \"white\", \"ticks\": \"\"}}, \"scene\": {\"xaxis\": {\"backgroundcolor\": \"#E5ECF6\", \"gridcolor\": \"white\", \"gridwidth\": 2, \"linecolor\": \"white\", \"showbackground\": true, \"ticks\": \"\", \"zerolinecolor\": \"white\"}, \"yaxis\": {\"backgroundcolor\": \"#E5ECF6\", \"gridcolor\": \"white\", \"gridwidth\": 2, \"linecolor\": \"white\", \"showbackground\": true, \"ticks\": \"\", \"zerolinecolor\": \"white\"}, \"zaxis\": {\"backgroundcolor\": \"#E5ECF6\", \"gridcolor\": \"white\", \"gridwidth\": 2, \"linecolor\": \"white\", \"showbackground\": true, \"ticks\": \"\", \"zerolinecolor\": \"white\"}}, \"shapedefaults\": {\"line\": {\"color\": \"#2a3f5f\"}}, \"ternary\": {\"aaxis\": {\"gridcolor\": \"white\", \"linecolor\": \"white\", \"ticks\": \"\"}, \"baxis\": {\"gridcolor\": \"white\", \"linecolor\": \"white\", \"ticks\": \"\"}, \"bgcolor\": \"#E5ECF6\", \"caxis\": {\"gridcolor\": \"white\", \"linecolor\": \"white\", \"ticks\": \"\"}}, \"title\": {\"x\": 0.05}, \"xaxis\": {\"automargin\": true, \"gridcolor\": \"white\", \"linecolor\": \"white\", \"ticks\": \"\", \"title\": {\"standoff\": 15}, \"zerolinecolor\": \"white\", \"zerolinewidth\": 2}, \"yaxis\": {\"automargin\": true, \"gridcolor\": \"white\", \"linecolor\": \"white\", \"ticks\": \"\", \"title\": {\"standoff\": 15}, \"zerolinecolor\": \"white\", \"zerolinewidth\": 2}}}, \"title\": {\"text\": \"Custom Word Embeddings\"}, \"xaxis\": {\"anchor\": \"y\", \"domain\": [0.0, 1.0], \"title\": {\"text\": \"x\"}}, \"yaxis\": {\"anchor\": \"x\", \"domain\": [0.0, 1.0], \"title\": {\"text\": \"y\"}}},\n",
              "                        {\"responsive\": true}\n",
              "                    ).then(function(){\n",
              "                            \n",
              "var gd = document.getElementById('6f451c27-3051-44e6-9b6b-f1b409463d08');\n",
              "var x = new MutationObserver(function (mutations, observer) {{\n",
              "        var display = window.getComputedStyle(gd).display;\n",
              "        if (!display || display === 'none') {{\n",
              "            console.log([gd, 'removed!']);\n",
              "            Plotly.purge(gd);\n",
              "            observer.disconnect();\n",
              "        }}\n",
              "}});\n",
              "\n",
              "// Listen for the removal of the full notebook cells\n",
              "var notebookContainer = gd.closest('#notebook-container');\n",
              "if (notebookContainer) {{\n",
              "    x.observe(notebookContainer, {childList: true});\n",
              "}}\n",
              "\n",
              "// Listen for the clearing of the current output cell\n",
              "var outputEl = gd.closest('.output');\n",
              "if (outputEl) {{\n",
              "    x.observe(outputEl, {childList: true});\n",
              "}}\n",
              "\n",
              "                        })\n",
              "                };\n",
              "                \n",
              "            </script>\n",
              "        </div>\n",
              "</body>\n",
              "</html>"
            ]
          },
          "metadata": {
            "tags": []
          }
        }
      ]
    },
    {
      "cell_type": "markdown",
      "metadata": {
        "id": "4TLgPlshqONZ",
        "colab_type": "text"
      },
      "source": [
        "# How Untrained Model behaves with our data"
      ]
    },
    {
      "cell_type": "code",
      "metadata": {
        "id": "mBbv5JXPIDXn",
        "colab_type": "code",
        "colab": {
          "base_uri": "https://localhost:8080/",
          "height": 804
        },
        "outputId": "3b121ada-ac26-4b37-b87a-e7d4daa4bedd"
      },
      "source": [
        "output = []\n",
        "for i in range(test.shape[0]):\n",
        "  _, wemb2 = untrained_model(torch.from_numpy(test[i]).unsqueeze(0).float()) # Here I am loading the untrained model\n",
        "  wemb2 = wemb2[0].detach().cpu().numpy()\n",
        "  output.append(wemb2)\n",
        "print(len(output))\n",
        "print(output)\n",
        "\n",
        "xs = []\n",
        "ys = []\n",
        "for i in range(len(output)):\n",
        "  xs.append(output[i][0])\n",
        "  ys.append(output[i][1])\n",
        "print(xs, ys)\n",
        "\n",
        "docs = ['cat', 'and', 'mice', 'are', 'buddies', 'hole', 'lives', 'in', 'house', 'chases', 'catches', 'runs', 'into', 'says', 'bad', 'words', 'pals', \\\n",
        "        'chums', 'stores', 'sleeps']\n",
        "\n",
        "plt.clf()\n",
        "plt.figure(figsize=(12,12))\n",
        "plt.scatter(xs,ys)\n",
        "label = docs\n",
        "\n",
        "for i,(x,y) in enumerate(zip(xs,ys)):\n",
        "  plt.annotate(label[i], (x,y), textcoords=\"offset points\", xytext=(0,10), fontsize=20, ha = random.choice(['left', 'right']))\n",
        "  plt.title(\"Un-Trained Model\")\n",
        "plt.show()"
      ],
      "execution_count": 124,
      "outputs": [
        {
          "output_type": "stream",
          "text": [
            "20\n",
            "[array([-0.04275345, -0.02886879], dtype=float32), array([-0.15202194,  0.07314789], dtype=float32), array([ 0.11291146, -0.02519633], dtype=float32), array([-0.15067662, -0.03637494], dtype=float32), array([-0.12090125, -0.12671636], dtype=float32), array([-0.05830668, -0.06250159], dtype=float32), array([ 0.11598429, -0.17297596], dtype=float32), array([ 0.07779913, -0.16202387], dtype=float32), array([ 0.09326096, -0.08127425], dtype=float32), array([0.00153296, 0.10262998], dtype=float32), array([-0.11948875, -0.08580889], dtype=float32), array([-0.07129273,  0.11963926], dtype=float32), array([ 0.03983977, -0.10740042], dtype=float32), array([0.10391836, 0.05241726], dtype=float32), array([ 0.15077467, -0.16078997], dtype=float32), array([ 0.16935094, -0.10312367], dtype=float32), array([-0.07607429,  0.14855856], dtype=float32), array([-0.12368356,  0.07868253], dtype=float32), array([-0.01665527, -0.15915565], dtype=float32), array([0.12776056, 0.09338955], dtype=float32)]\n",
            "[-0.042753454, -0.15202194, 0.11291146, -0.15067662, -0.12090125, -0.058306675, 0.11598429, 0.07779913, 0.09326096, 0.0015329635, -0.11948875, -0.07129273, 0.03983977, 0.10391836, 0.15077467, 0.16935094, -0.07607429, -0.123683564, -0.01665527, 0.12776056] [-0.028868789, 0.07314789, -0.025196327, -0.03637494, -0.12671636, -0.062501594, -0.17297596, -0.16202387, -0.08127425, 0.10262998, -0.08580889, 0.119639255, -0.107400425, 0.052417256, -0.16078997, -0.10312367, 0.14855856, 0.07868253, -0.15915565, 0.09338955]\n"
          ],
          "name": "stdout"
        },
        {
          "output_type": "display_data",
          "data": {
            "text/plain": [
              "<Figure size 432x288 with 0 Axes>"
            ]
          },
          "metadata": {
            "tags": []
          }
        },
        {
          "output_type": "display_data",
          "data": {
            "image/png": "[encoded data removed]",
            "text/plain": [
              "<Figure size 864x864 with 1 Axes>"
            ]
          },
          "metadata": {
            "tags": [],
            "needs_background": "light"
          }
        }
      ]
    },
    {
      "cell_type": "code",
      "metadata": {
        "id": "RMAeWzkTqetk",
        "colab_type": "code",
        "colab": {
          "base_uri": "https://localhost:8080/",
          "height": 817
        },
        "outputId": "74301370-3965-48ce-fa71-88d1606d9a94"
      },
      "source": [
        "import plotly\n",
        "import plotly.express as px\n",
        "\n",
        "import plotly.express as px\n",
        "fig = px.scatter(x=xs, y=ys, text=docs, size_max=100)\n",
        "fig.update_traces(textposition= random.choice(['top center', 'bottom center','bottom left']))\n",
        "fig.update_layout(height=800,title_text='Custom Word Embeddings')\n",
        "fig.show()"
      ],
      "execution_count": 125,
      "outputs": [
        {
          "output_type": "display_data",
          "data": {
            "text/html": [
              "<html>\n",
              "<head><meta charset=\"utf-8\" /></head>\n",
              "<body>\n",
              "    <div>\n",
              "            <script src=\"https://cdnjs.cloudflare.com/ajax/libs/mathjax/2.7.5/MathJax.js?config=TeX-AMS-MML_SVG\"></script><script type=\"text/javascript\">if (window.MathJax) {MathJax.Hub.Config({SVG: {font: \"STIX-Web\"}});}</script>\n",
              "                <script type=\"text/javascript\">window.PlotlyConfig = {MathJaxConfig: 'local'};</script>\n",
              "        <script src=\"https://cdn.plot.ly/plotly-latest.min.js\"></script>    \n",
              "            <div id=\"d0ddea73-a7d5-46cc-a194-e6bafa2ae197\" class=\"plotly-graph-div\" style=\"height:800px; width:100%;\"></div>\n",
              "            <script type=\"text/javascript\">\n",
              "                \n",
              "                    window.PLOTLYENV=window.PLOTLYENV || {};\n",
              "                    \n",
              "                if (document.getElementById(\"d0ddea73-a7d5-46cc-a194-e6bafa2ae197\")) {\n",
              "                    Plotly.newPlot(\n",
              "                        'd0ddea73-a7d5-46cc-a194-e6bafa2ae197',\n",
              "                        [{\"hoverlabel\": {\"namelength\": 0}, \"hovertemplate\": \"x=%{x}<br>y=%{y}<br>text=%{text}\", \"legendgroup\": \"\", \"marker\": {\"color\": \"#636efa\", \"symbol\": \"circle\"}, \"mode\": \"markers+text\", \"name\": \"\", \"showlegend\": false, \"text\": [\"cat\", \"and\", \"mice\", \"are\", \"buddies\", \"hole\", \"lives\", \"in\", \"house\", \"chases\", \"catches\", \"runs\", \"into\", \"says\", \"bad\", \"words\", \"pals\", \"chums\", \"stores\", \"sleeps\"], \"textposition\": \"bottom center\", \"type\": \"scatter\", \"x\": [-0.04275345429778099, -0.15202194452285767, 0.11291146278381348, -0.15067662298679352, -0.12090124934911728, -0.058306675404310226, 0.11598429083824158, 0.07779912650585175, 0.09326095879077911, 0.0015329634770751, -0.11948875337839127, -0.07129272818565369, 0.03983977064490318, 0.10391835868358612, 0.15077467262744904, 0.16935093700885773, -0.07607428729534149, -0.12368356436491013, -0.016655270010232925, 0.12776055932044983], \"xaxis\": \"x\", \"y\": [-0.028868788853287697, 0.07314789295196533, -0.02519632689654827, -0.03637494146823883, -0.12671636044979095, -0.06250159442424774, -0.17297595739364624, -0.1620238721370697, -0.08127424865961075, 0.10262998193502426, -0.0858088880777359, 0.11963925510644913, -0.10740042477846146, 0.05241725593805313, -0.16078996658325195, -0.10312367230653763, 0.14855855703353882, 0.07868252694606781, -0.15915565192699432, 0.09338954836130142], \"yaxis\": \"y\"}],\n",
              "                        {\"height\": 800, \"legend\": {\"tracegroupgap\": 0}, \"margin\": {\"t\": 60}, \"template\": {\"data\": {\"bar\": [{\"error_x\": {\"color\": \"#2a3f5f\"}, \"error_y\": {\"color\": \"#2a3f5f\"}, \"marker\": {\"line\": {\"color\": \"#E5ECF6\", \"width\": 0.5}}, \"type\": \"bar\"}], \"barpolar\": [{\"marker\": {\"line\": {\"color\": \"#E5ECF6\", \"width\": 0.5}}, \"type\": \"barpolar\"}], \"carpet\": [{\"aaxis\": {\"endlinecolor\": \"#2a3f5f\", \"gridcolor\": \"white\", \"linecolor\": \"white\", \"minorgridcolor\": \"white\", \"startlinecolor\": \"#2a3f5f\"}, \"baxis\": {\"endlinecolor\": \"#2a3f5f\", \"gridcolor\": \"white\", \"linecolor\": \"white\", \"minorgridcolor\": \"white\", \"startlinecolor\": \"#2a3f5f\"}, \"type\": \"carpet\"}], \"choropleth\": [{\"colorbar\": {\"outlinewidth\": 0, \"ticks\": \"\"}, \"type\": \"choropleth\"}], \"contour\": [{\"colorbar\": {\"outlinewidth\": 0, \"ticks\": \"\"}, \"colorscale\": [[0.0, \"#0d0887\"], [0.1111111111111111, \"#46039f\"], [0.2222222222222222, \"#7201a8\"], [0.3333333333333333, \"#9c179e\"], [0.4444444444444444, \"#bd3786\"], [0.5555555555555556, \"#d8576b\"], [0.6666666666666666, \"#ed7953\"], [0.7777777777777778, \"#fb9f3a\"], [0.8888888888888888, \"#fdca26\"], [1.0, \"#f0f921\"]], \"type\": \"contour\"}], \"contourcarpet\": [{\"colorbar\": {\"outlinewidth\": 0, \"ticks\": \"\"}, \"type\": \"contourcarpet\"}], \"heatmap\": [{\"colorbar\": {\"outlinewidth\": 0, \"ticks\": \"\"}, \"colorscale\": [[0.0, \"#0d0887\"], [0.1111111111111111, \"#46039f\"], [0.2222222222222222, \"#7201a8\"], [0.3333333333333333, \"#9c179e\"], [0.4444444444444444, \"#bd3786\"], [0.5555555555555556, \"#d8576b\"], [0.6666666666666666, \"#ed7953\"], [0.7777777777777778, \"#fb9f3a\"], [0.8888888888888888, \"#fdca26\"], [1.0, \"#f0f921\"]], \"type\": \"heatmap\"}], \"heatmapgl\": [{\"colorbar\": {\"outlinewidth\": 0, \"ticks\": \"\"}, \"colorscale\": [[0.0, \"#0d0887\"], [0.1111111111111111, \"#46039f\"], [0.2222222222222222, \"#7201a8\"], [0.3333333333333333, \"#9c179e\"], [0.4444444444444444, \"#bd3786\"], [0.5555555555555556, \"#d8576b\"], [0.6666666666666666, \"#ed7953\"], [0.7777777777777778, \"#fb9f3a\"], [0.8888888888888888, \"#fdca26\"], [1.0, \"#f0f921\"]], \"type\": \"heatmapgl\"}], \"histogram\": [{\"marker\": {\"colorbar\": {\"outlinewidth\": 0, \"ticks\": \"\"}}, \"type\": \"histogram\"}], \"histogram2d\": [{\"colorbar\": {\"outlinewidth\": 0, \"ticks\": \"\"}, \"colorscale\": [[0.0, \"#0d0887\"], [0.1111111111111111, \"#46039f\"], [0.2222222222222222, \"#7201a8\"], [0.3333333333333333, \"#9c179e\"], [0.4444444444444444, \"#bd3786\"], [0.5555555555555556, \"#d8576b\"], [0.6666666666666666, \"#ed7953\"], [0.7777777777777778, \"#fb9f3a\"], [0.8888888888888888, \"#fdca26\"], [1.0, \"#f0f921\"]], \"type\": \"histogram2d\"}], \"histogram2dcontour\": [{\"colorbar\": {\"outlinewidth\": 0, \"ticks\": \"\"}, \"colorscale\": [[0.0, \"#0d0887\"], [0.1111111111111111, \"#46039f\"], [0.2222222222222222, \"#7201a8\"], [0.3333333333333333, \"#9c179e\"], [0.4444444444444444, \"#bd3786\"], [0.5555555555555556, \"#d8576b\"], [0.6666666666666666, \"#ed7953\"], [0.7777777777777778, \"#fb9f3a\"], [0.8888888888888888, \"#fdca26\"], [1.0, \"#f0f921\"]], \"type\": \"histogram2dcontour\"}], \"mesh3d\": [{\"colorbar\": {\"outlinewidth\": 0, \"ticks\": \"\"}, \"type\": \"mesh3d\"}], \"parcoords\": [{\"line\": {\"colorbar\": {\"outlinewidth\": 0, \"ticks\": \"\"}}, \"type\": \"parcoords\"}], \"pie\": [{\"automargin\": true, \"type\": \"pie\"}], \"scatter\": [{\"marker\": {\"colorbar\": {\"outlinewidth\": 0, \"ticks\": \"\"}}, \"type\": \"scatter\"}], \"scatter3d\": [{\"line\": {\"colorbar\": {\"outlinewidth\": 0, \"ticks\": \"\"}}, \"marker\": {\"colorbar\": {\"outlinewidth\": 0, \"ticks\": \"\"}}, \"type\": \"scatter3d\"}], \"scattercarpet\": [{\"marker\": {\"colorbar\": {\"outlinewidth\": 0, \"ticks\": \"\"}}, \"type\": \"scattercarpet\"}], \"scattergeo\": [{\"marker\": {\"colorbar\": {\"outlinewidth\": 0, \"ticks\": \"\"}}, \"type\": \"scattergeo\"}], \"scattergl\": [{\"marker\": {\"colorbar\": {\"outlinewidth\": 0, \"ticks\": \"\"}}, \"type\": \"scattergl\"}], \"scattermapbox\": [{\"marker\": {\"colorbar\": {\"outlinewidth\": 0, \"ticks\": \"\"}}, \"type\": \"scattermapbox\"}], \"scatterpolar\": [{\"marker\": {\"colorbar\": {\"outlinewidth\": 0, \"ticks\": \"\"}}, \"type\": \"scatterpolar\"}], \"scatterpolargl\": [{\"marker\": {\"colorbar\": {\"outlinewidth\": 0, \"ticks\": \"\"}}, \"type\": \"scatterpolargl\"}], \"scatterternary\": [{\"marker\": {\"colorbar\": {\"outlinewidth\": 0, \"ticks\": \"\"}}, \"type\": \"scatterternary\"}], \"surface\": [{\"colorbar\": {\"outlinewidth\": 0, \"ticks\": \"\"}, \"colorscale\": [[0.0, \"#0d0887\"], [0.1111111111111111, \"#46039f\"], [0.2222222222222222, \"#7201a8\"], [0.3333333333333333, \"#9c179e\"], [0.4444444444444444, \"#bd3786\"], [0.5555555555555556, \"#d8576b\"], [0.6666666666666666, \"#ed7953\"], [0.7777777777777778, \"#fb9f3a\"], [0.8888888888888888, \"#fdca26\"], [1.0, \"#f0f921\"]], \"type\": \"surface\"}], \"table\": [{\"cells\": {\"fill\": {\"color\": \"#EBF0F8\"}, \"line\": {\"color\": \"white\"}}, \"header\": {\"fill\": {\"color\": \"#C8D4E3\"}, \"line\": {\"color\": \"white\"}}, \"type\": \"table\"}]}, \"layout\": {\"annotationdefaults\": {\"arrowcolor\": \"#2a3f5f\", \"arrowhead\": 0, \"arrowwidth\": 1}, \"coloraxis\": {\"colorbar\": {\"outlinewidth\": 0, \"ticks\": \"\"}}, \"colorscale\": {\"diverging\": [[0, \"#8e0152\"], [0.1, \"#c51b7d\"], [0.2, \"#de77ae\"], [0.3, \"#f1b6da\"], [0.4, \"#fde0ef\"], [0.5, \"#f7f7f7\"], [0.6, \"#e6f5d0\"], [0.7, \"#b8e186\"], [0.8, \"#7fbc41\"], [0.9, \"#4d9221\"], [1, \"#276419\"]], \"sequential\": [[0.0, \"#0d0887\"], [0.1111111111111111, \"#46039f\"], [0.2222222222222222, \"#7201a8\"], [0.3333333333333333, \"#9c179e\"], [0.4444444444444444, \"#bd3786\"], [0.5555555555555556, \"#d8576b\"], [0.6666666666666666, \"#ed7953\"], [0.7777777777777778, \"#fb9f3a\"], [0.8888888888888888, \"#fdca26\"], [1.0, \"#f0f921\"]], \"sequentialminus\": [[0.0, \"#0d0887\"], [0.1111111111111111, \"#46039f\"], [0.2222222222222222, \"#7201a8\"], [0.3333333333333333, \"#9c179e\"], [0.4444444444444444, \"#bd3786\"], [0.5555555555555556, \"#d8576b\"], [0.6666666666666666, \"#ed7953\"], [0.7777777777777778, \"#fb9f3a\"], [0.8888888888888888, \"#fdca26\"], [1.0, \"#f0f921\"]]}, \"colorway\": [\"#636efa\", \"#EF553B\", \"#00cc96\", \"#ab63fa\", \"#FFA15A\", \"#19d3f3\", \"#FF6692\", \"#B6E880\", \"#FF97FF\", \"#FECB52\"], \"font\": {\"color\": \"#2a3f5f\"}, \"geo\": {\"bgcolor\": \"white\", \"lakecolor\": \"white\", \"landcolor\": \"#E5ECF6\", \"showlakes\": true, \"showland\": true, \"subunitcolor\": \"white\"}, \"hoverlabel\": {\"align\": \"left\"}, \"hovermode\": \"closest\", \"mapbox\": {\"style\": \"light\"}, \"paper_bgcolor\": \"white\", \"plot_bgcolor\": \"#E5ECF6\", \"polar\": {\"angularaxis\": {\"gridcolor\": \"white\", \"linecolor\": \"white\", \"ticks\": \"\"}, \"bgcolor\": \"#E5ECF6\", \"radialaxis\": {\"gridcolor\": \"white\", \"linecolor\": \"white\", \"ticks\": \"\"}}, \"scene\": {\"xaxis\": {\"backgroundcolor\": \"#E5ECF6\", \"gridcolor\": \"white\", \"gridwidth\": 2, \"linecolor\": \"white\", \"showbackground\": true, \"ticks\": \"\", \"zerolinecolor\": \"white\"}, \"yaxis\": {\"backgroundcolor\": \"#E5ECF6\", \"gridcolor\": \"white\", \"gridwidth\": 2, \"linecolor\": \"white\", \"showbackground\": true, \"ticks\": \"\", \"zerolinecolor\": \"white\"}, \"zaxis\": {\"backgroundcolor\": \"#E5ECF6\", \"gridcolor\": \"white\", \"gridwidth\": 2, \"linecolor\": \"white\", \"showbackground\": true, \"ticks\": \"\", \"zerolinecolor\": \"white\"}}, \"shapedefaults\": {\"line\": {\"color\": \"#2a3f5f\"}}, \"ternary\": {\"aaxis\": {\"gridcolor\": \"white\", \"linecolor\": \"white\", \"ticks\": \"\"}, \"baxis\": {\"gridcolor\": \"white\", \"linecolor\": \"white\", \"ticks\": \"\"}, \"bgcolor\": \"#E5ECF6\", \"caxis\": {\"gridcolor\": \"white\", \"linecolor\": \"white\", \"ticks\": \"\"}}, \"title\": {\"x\": 0.05}, \"xaxis\": {\"automargin\": true, \"gridcolor\": \"white\", \"linecolor\": \"white\", \"ticks\": \"\", \"title\": {\"standoff\": 15}, \"zerolinecolor\": \"white\", \"zerolinewidth\": 2}, \"yaxis\": {\"automargin\": true, \"gridcolor\": \"white\", \"linecolor\": \"white\", \"ticks\": \"\", \"title\": {\"standoff\": 15}, \"zerolinecolor\": \"white\", \"zerolinewidth\": 2}}}, \"title\": {\"text\": \"Custom Word Embeddings\"}, \"xaxis\": {\"anchor\": \"y\", \"domain\": [0.0, 1.0], \"title\": {\"text\": \"x\"}}, \"yaxis\": {\"anchor\": \"x\", \"domain\": [0.0, 1.0], \"title\": {\"text\": \"y\"}}},\n",
              "                        {\"responsive\": true}\n",
              "                    ).then(function(){\n",
              "                            \n",
              "var gd = document.getElementById('d0ddea73-a7d5-46cc-a194-e6bafa2ae197');\n",
              "var x = new MutationObserver(function (mutations, observer) {{\n",
              "        var display = window.getComputedStyle(gd).display;\n",
              "        if (!display || display === 'none') {{\n",
              "            console.log([gd, 'removed!']);\n",
              "            Plotly.purge(gd);\n",
              "            observer.disconnect();\n",
              "        }}\n",
              "}});\n",
              "\n",
              "// Listen for the removal of the full notebook cells\n",
              "var notebookContainer = gd.closest('#notebook-container');\n",
              "if (notebookContainer) {{\n",
              "    x.observe(notebookContainer, {childList: true});\n",
              "}}\n",
              "\n",
              "// Listen for the clearing of the current output cell\n",
              "var outputEl = gd.closest('.output');\n",
              "if (outputEl) {{\n",
              "    x.observe(outputEl, {childList: true});\n",
              "}}\n",
              "\n",
              "                        })\n",
              "                };\n",
              "                \n",
              "            </script>\n",
              "        </div>\n",
              "</body>\n",
              "</html>"
            ]
          },
          "metadata": {
            "tags": []
          }
        }
      ]
    },
    {
      "cell_type": "code",
      "metadata": {
        "id": "NKFGsU2UqjNi",
        "colab_type": "code",
        "colab": {}
      },
      "source": [
        ""
      ],
      "execution_count": null,
      "outputs": []
    }
  ]
}